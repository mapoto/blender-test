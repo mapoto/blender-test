{
 "cells": [
  {
   "cell_type": "code",
   "execution_count": 1,
   "metadata": {},
   "outputs": [],
   "source": [
    "import json"
   ]
  },
  {
   "cell_type": "code",
   "execution_count": 2,
   "metadata": {},
   "outputs": [],
   "source": [
    "model_info_path = \"Z:/datasets/3D-FUTURE/3D-FUTURE-scene/GT/model_infos.json\"\n",
    "test_set_path = \"Z:/datasets/3D-FUTURE/3D-FUTURE-scene/GT/test_set.json\"\n",
    "train_set_path = \"Z:/datasets/3D-FUTURE/3D-FUTURE-scene/GT/train_set.json\""
   ]
  },
  {
   "cell_type": "code",
   "execution_count": 3,
   "metadata": {},
   "outputs": [
    {
     "name": "stdout",
     "output_type": "stream",
     "text": [
      "9992\n",
      "dict_keys(['categories', 'images', 'annotations'])\n"
     ]
    }
   ],
   "source": [
    "# with open(model_info_path, 'r') as model_info:\n",
    "#     model_data = json.load(model_info)\n",
    "# print(len(model_data) )\n",
    "\n",
    "with open(test_set_path, 'r') as test_set:\n",
    "    test_data = json.load(test_set)\n",
    "print(test_data.keys())\n",
    "\n",
    "# with open(train_set_path, 'r') as train_set:\n",
    "#     train_data = json.load(train_set)\n",
    "# print(train_data)"
   ]
  },
  {
   "cell_type": "code",
   "execution_count": 4,
   "metadata": {},
   "outputs": [
    {
     "name": "stdout",
     "output_type": "stream",
     "text": [
      "da64b6ef-d704-404b-a0e3-866d0e091362\n"
     ]
    }
   ],
   "source": [
    "print(test_data[\"annotations\"])\n",
    "\n",
    "# for model in model_data:\n",
    "#     print(model[\"model_id\"])\n",
    " "
   ]
  }
 ],
 "metadata": {
  "interpreter": {
   "hash": "00ab7cb4e50d44dadbb0bce3786ed7e14012a8d21c161cbbac6ff403a9e46ee9"
  },
  "kernelspec": {
   "display_name": "Python 3.9.7 ('scannet')",
   "language": "python",
   "name": "python3"
  },
  "language_info": {
   "codemirror_mode": {
    "name": "ipython",
    "version": 3
   },
   "file_extension": ".py",
   "mimetype": "text/x-python",
   "name": "python",
   "nbconvert_exporter": "python",
   "pygments_lexer": "ipython3",
   "version": "3.9.7"
  },
  "orig_nbformat": 4
 },
 "nbformat": 4,
 "nbformat_minor": 2
}
